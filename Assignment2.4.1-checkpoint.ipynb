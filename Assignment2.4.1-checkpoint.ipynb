{
 "cells": [
  {
   "cell_type": "code",
   "execution_count": null,
   "metadata": {
    "collapsed": true
   },
   "outputs": [],
   "source": [
    "#Write a Python Program(with class concepts) to find the area of the triangle using the below formula.  \n",
    "#area = (s*(s-a)*(s-b)*(s-c)) ** 0.5  \n",
    "#Function to take the length of the sides of triangle from user should be defined in the parent class and function to calculate the area should be defined in subclass. "
   ]
  },
  {
   "cell_type": "code",
   "execution_count": 20,
   "metadata": {},
   "outputs": [
    {
     "name": "stdout",
     "output_type": "stream",
     "text": [
      "Enter the first side: 5\n",
      "Enter the second side:6\n",
      "Enter the third side: 5\n",
      "12.0\n"
     ]
    }
   ],
   "source": [
    "class Triangle:\n",
    "    def parameters(self):\n",
    "        a=int(input(\"Enter the first side: \"))\n",
    "        b=int(input(\"Enter the second side:\"))\n",
    "        c=int(input(\"Enter the third side: \"))\n",
    "        self.a=a\n",
    "        self.b=b\n",
    "        self.c=c\n",
    "class area(Triangle):\n",
    "    def cal_area(self):\n",
    "        s=0\n",
    "        area=0\n",
    "        s=(self.a+self.b+self.c)*0.5\n",
    "        area=(s*(s-self.a)*(s-self.b)*(s-self.c))**0.5\n",
    "        return area\n",
    "out=area()\n",
    "out.parameters()\n",
    "print(out.cal_area())"
   ]
  },
  {
   "cell_type": "code",
   "execution_count": 31,
   "metadata": {},
   "outputs": [
    {
     "name": "stdout",
     "output_type": "stream",
     "text": [
      "['wordThree', 'wordFour', 'wordFive']\n"
     ]
    }
   ],
   "source": [
    "##Write a function filter_long_words() that takes a list of words and an integer n and returns\n",
    "##the list of words that are longer than n.\n",
    "\n",
    "def filter_long_words(inputList,inputInteger):\n",
    " \n",
    "    listOfWords = []\n",
    " \n",
    "    for i in range(len(inputList)):\n",
    "        if len(inputList[i]) > inputInteger:\n",
    "            listOfWords.append(inputList[i])\n",
    " \n",
    "    return listOfWords\n",
    "\n",
    "inputListOfWords = ['wordOne','wordTwo','wordThree','wordFour','wordFive']\n",
    "inputWordLength = 7\n",
    " \n",
    "print (str(filter_long_words(inputListOfWords,inputWordLength)))\n"
   ]
  },
  {
   "cell_type": "code",
   "execution_count": null,
   "metadata": {},
   "outputs": [],
   "source": []
  }
 ],
 "metadata": {
  "kernelspec": {
   "display_name": "Python 3",
   "language": "python",
   "name": "python3"
  },
  "language_info": {
   "codemirror_mode": {
    "name": "ipython",
    "version": 3
   },
   "file_extension": ".py",
   "mimetype": "text/x-python",
   "name": "python",
   "nbconvert_exporter": "python",
   "pygments_lexer": "ipython3",
   "version": "3.6.4"
  }
 },
 "nbformat": 4,
 "nbformat_minor": 2
}
